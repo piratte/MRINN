{
 "cells": [
  {
   "cell_type": "code",
   "execution_count": null,
   "metadata": {
    "collapsed": false
   },
   "outputs": [],
   "source": [
    "import nibabel as nib\n",
    "import numpy as np\n",
    "import os\n",
    "\n",
    "all_data = []\n",
    "flat_data = []\n",
    "ages = []\n",
    "sexes = []\n",
    "non_zeros = np.load('non_zeros.npy')\n",
    "fails = 0\n",
    "rootDir = 'data'\n",
    "for dirName, subdirList, fileList in os.walk(rootDir):\n",
    "    if 'T88' in dirName and 't4_files' not in dirName: \n",
    "        ds = dirName.split('/')\n",
    "        sessionId = ds[2]\n",
    "        metadataFileName = '/'.join(ds[0:3]) + '/' + sessionId + '.txt'\n",
    "        dataFileName = '/'.join(ds) + '/' + sessionId + '_mpr_n4_anon_111_t88_masked_gfc.img'\n",
    "        try:\n",
    "            img = nib.load(dataFileName)\n",
    "        except FileNotFoundError:\n",
    "            dataFileName = '/'.join(ds) + '/' + sessionId + '_mpr_n3_anon_111_t88_masked_gfc.img'\n",
    "        try:\n",
    "            img = nib.load(dataFileName)\n",
    "        except FileNotFoundError:\n",
    "            fails += 1\n",
    "            continue\n",
    "        data = img.get_data()\n",
    "        # all_data.append(data)\n",
    "        with open(metadataFileName) as f:\n",
    "            for line in f:\n",
    "                if \"AGE:\" in line:\n",
    "                    ages.append(list(filter(None, line.split()))[1])\n",
    "                elif \"M/F:\" in line:\n",
    "                    sexes.append(list(filter(None, line.split()))[1])\n",
    "                    break\n",
    "        \n",
    "        # creating the non_zero array of indexes \n",
    "        # inds = np.where(data.flatten() > 0)\n",
    "        # if non_zeros.size == 0: \n",
    "        #    non_zeros = inds[0]\n",
    "        # else: \n",
    "        #    non_zeros = np.intersect1d(non_zeros, inds[0])\n",
    "        \n",
    "        flat_data.append(data.flatten()[non_zeros])\n",
    "        \n",
    "        \n",
    "# all_data = np.asarray(all_data, float)\n",
    "flat_data_np = np.array(flat_data)\n",
    "\n",
    "# WARNING: UNCOMMENTING THE FOLLOWING LINES WILL OVERWRITE YOUR BACKUPS\n",
    "\n",
    "# np.save('flat_data', flat_data_np)\n",
    "# np.save('ages', ages)\n",
    "# np.save('sexes', sexes)"
   ]
  },
  {
   "cell_type": "code",
   "execution_count": 1,
   "metadata": {
    "collapsed": false
   },
   "outputs": [],
   "source": [
    "import numpy as np\n",
    "\n",
    "ages = np.load('ages.npy')\n",
    "#sexes = np.load('sexes.npy')\n",
    "flat_data_np = np.load('flat_data.npy')"
   ]
  },
  {
   "cell_type": "code",
   "execution_count": 2,
   "metadata": {
    "collapsed": false
   },
   "outputs": [
    {
     "data": {
      "text/plain": [
       "(434, 1658718)"
      ]
     },
     "execution_count": 2,
     "metadata": {},
     "output_type": "execute_result"
    }
   ],
   "source": [
    "# finding items, that are equal everywhere\n",
    "notTheSame = np.where(np.not_equal(flat_data_np[0], flat_data_np[1]))[0]\n",
    "for element in flat_data_np:\n",
    "    inds = np.where(np.not_equal(flat_data_np[0], flat_data_np[1]))[0]\n",
    "    notTheSame = np.intersect1d(notTheSame, inds)\n",
    "    \n",
    "flat_data_filtered = flat_data_np[:,notTheSame]\n",
    "flat_data_np = None\n",
    "notTheSame = None # freeing up some memory\n",
    "flat_data_filtered.shape"
   ]
  },
  {
   "cell_type": "code",
   "execution_count": 3,
   "metadata": {
    "collapsed": false
   },
   "outputs": [],
   "source": [
    "from sklearn.decomposition import IncrementalPCA\n",
    "# from sklearn.manifold import TSNE\n",
    "\n",
    "pca = IncrementalPCA(batch_size=75, n_components=70)\n",
    "model = pca.fit(flat_data_filtered, ages)"
   ]
  },
  {
   "cell_type": "code",
   "execution_count": 4,
   "metadata": {
    "collapsed": false
   },
   "outputs": [],
   "source": [
    "transformedData = model.transform(flat_data_filtered, ages)"
   ]
  },
  {
   "cell_type": "code",
   "execution_count": 5,
   "metadata": {
    "collapsed": false
   },
   "outputs": [
    {
     "data": {
      "text/plain": [
       "(434, 70)"
      ]
     },
     "execution_count": 5,
     "metadata": {},
     "output_type": "execute_result"
    }
   ],
   "source": [
    "transformedData.shape"
   ]
  }
 ],
 "metadata": {
  "kernelspec": {
   "display_name": "Python 2",
   "language": "python",
   "name": "python2"
  },
  "language_info": {
   "codemirror_mode": {
    "name": "ipython",
    "version": 2
   },
   "file_extension": ".py",
   "mimetype": "text/x-python",
   "name": "python",
   "nbconvert_exporter": "python",
   "pygments_lexer": "ipython2",
   "version": "2.7.12"
  }
 },
 "nbformat": 4,
 "nbformat_minor": 0
}
