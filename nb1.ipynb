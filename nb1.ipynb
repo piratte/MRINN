{
 "cells": [
  {
   "cell_type": "code",
   "execution_count": null,
   "metadata": {
    "collapsed": false
   },
   "outputs": [],
   "source": [
    "import nibabel as nib\n",
    "import numpy as np\n",
    "import os\n",
    "\n",
    "all_data = []\n",
    "flat_data = []\n",
    "ages = []\n",
    "sexes = []\n",
    "non_zeros = np.load('non_zeros.npy')\n",
    "fails = 0\n",
    "rootDir = 'data'\n",
    "for dirName, subdirList, fileList in os.walk(rootDir):\n",
    "    if 'T88' in dirName and 't4_files' not in dirName: \n",
    "        ds = dirName.split('/')\n",
    "        sessionId = ds[2]\n",
    "        metadataFileName = '/'.join(ds[0:3]) + '/' + sessionId + '.txt'\n",
    "        dataFileName = '/'.join(ds) + '/' + sessionId + '_mpr_n4_anon_111_t88_masked_gfc.img'\n",
    "        try:\n",
    "            img = nib.load(dataFileName)\n",
    "        except FileNotFoundError:\n",
    "            dataFileName = '/'.join(ds) + '/' + sessionId + '_mpr_n3_anon_111_t88_masked_gfc.img'\n",
    "        try:\n",
    "            img = nib.load(dataFileName)\n",
    "        except FileNotFoundError:\n",
    "            fails += 1\n",
    "            continue\n",
    "        data = img.get_data()\n",
    "        # all_data.append(data)\n",
    "        with open(metadataFileName) as f:\n",
    "            for line in f:\n",
    "                if \"AGE:\" in line:\n",
    "                    ages.append(list(filter(None, line.split()))[1])\n",
    "                elif \"M/F:\" in line:\n",
    "                    sexes.append(list(filter(None, line.split()))[1])\n",
    "                    break\n",
    "        \n",
    "        # creating the non_zero array of indexes \n",
    "        # inds = np.where(data.flatten() > 0)\n",
    "        # if non_zeros.size == 0: \n",
    "        #    non_zeros = inds[0]\n",
    "        # else: \n",
    "        #    non_zeros = np.intersect1d(non_zeros, inds[0])\n",
    "        \n",
    "        flat_data.append(data.flatten()[non_zeros])\n",
    "        \n",
    "        \n",
    "# all_data = np.asarray(all_data, float)\n",
    "flat_data_np = np.array(flat_data)\n",
    "\n",
    "# WARNING: UNCOMMENTING THE FOLLOWING LINES WILL OVERWRITE YOUR BACKUPS\n",
    "\n",
    "# np.save('flat_data', flat_data_np)\n",
    "# np.save('ages', ages)\n",
    "# np.save('sexes', sexes)"
   ]
  },
  {
   "cell_type": "code",
   "execution_count": 12,
   "metadata": {
    "collapsed": false
   },
   "outputs": [
    {
     "ename": "TypeError",
     "evalue": "load() got an unexpected keyword argument 'dtype'",
     "output_type": "error",
     "traceback": [
      "\u001b[0;31m---------------------------------------------------------------------------\u001b[0m",
      "\u001b[0;31mTypeError\u001b[0m                                 Traceback (most recent call last)",
      "\u001b[0;32m<ipython-input-12-4b904e02bc13>\u001b[0m in \u001b[0;36m<module>\u001b[0;34m()\u001b[0m\n\u001b[1;32m      3\u001b[0m \u001b[0mages\u001b[0m \u001b[0;34m=\u001b[0m \u001b[0mnp\u001b[0m\u001b[0;34m.\u001b[0m\u001b[0mload\u001b[0m\u001b[0;34m(\u001b[0m\u001b[0;34m'ages.npy'\u001b[0m\u001b[0;34m)\u001b[0m\u001b[0;34m\u001b[0m\u001b[0m\n\u001b[1;32m      4\u001b[0m \u001b[0;31m#sexes = np.load('sexes.npy')\u001b[0m\u001b[0;34m\u001b[0m\u001b[0;34m\u001b[0m\u001b[0m\n\u001b[0;32m----> 5\u001b[0;31m \u001b[0mflat_data_np\u001b[0m \u001b[0;34m=\u001b[0m \u001b[0mnp\u001b[0m\u001b[0;34m.\u001b[0m\u001b[0mload\u001b[0m\u001b[0;34m(\u001b[0m\u001b[0;34m'flat_data.npy'\u001b[0m\u001b[0;34m,\u001b[0m \u001b[0mdtype\u001b[0m\u001b[0;34m=\u001b[0m\u001b[0;34m'float32'\u001b[0m\u001b[0;34m)\u001b[0m\u001b[0;34m\u001b[0m\u001b[0m\n\u001b[0m",
      "\u001b[0;31mTypeError\u001b[0m: load() got an unexpected keyword argument 'dtype'"
     ]
    }
   ],
   "source": [
    "import numpy as np\n",
    "\n",
    "ages = np.load('ages.npy')\n",
    "#sexes = np.load('sexes.npy')\n",
    "flat_data_np = np.load('flat_data.npy', dtype='float32')"
   ]
  },
  {
   "cell_type": "code",
   "execution_count": 2,
   "metadata": {
    "collapsed": false
   },
   "outputs": [
    {
     "data": {
      "text/plain": [
       "(434, 1658718)"
      ]
     },
     "execution_count": 2,
     "metadata": {},
     "output_type": "execute_result"
    }
   ],
   "source": [
    "# finding items, that are equal everywhere\n",
    "notTheSame = np.where(np.not_equal(flat_data_np[0], flat_data_np[1]))[0]\n",
    "for element in flat_data_np:\n",
    "    inds = np.where(np.not_equal(flat_data_np[0], flat_data_np[1]))[0]\n",
    "    notTheSame = np.intersect1d(notTheSame, inds)\n",
    "    \n",
    "flat_data_filtered = flat_data_np[:,notTheSame]\n",
    "flat_data_np = None\n",
    "notTheSame = None # freeing up some memory\n",
    "flat_data_filtered.shape"
   ]
  },
  {
   "cell_type": "code",
   "execution_count": 14,
   "metadata": {
    "collapsed": false
   },
   "outputs": [],
   "source": [
    "from sklearn.decomposition import IncrementalPCA\n",
    "import matplotlib.pyplot as plt\n",
    "\n",
    "\n",
    "pca = IncrementalPCA(batch_size=105, n_components=20)\n",
    "model = pca.fit(flat_data_filtered, ages)"
   ]
  },
  {
   "cell_type": "code",
   "execution_count": 15,
   "metadata": {
    "collapsed": false
   },
   "outputs": [
    {
     "data": {
      "text/plain": [
       "[<matplotlib.lines.Line2D at 0x7f60564534d0>]"
      ]
     },
     "execution_count": 15,
     "metadata": {},
     "output_type": "execute_result"
    },
    {
     "data": {
      "image/png": "[encoded data removed]",
      "text/plain": [
       "<matplotlib.figure.Figure at 0x7f60565667d0>"
      ]
     },
     "metadata": {},
     "output_type": "display_data"
    }
   ],
   "source": [
    "%matplotlib inline\n",
    "\n",
    "plt.plot(model.explained_variance_)"
   ]
  },
  {
   "cell_type": "code",
   "execution_count": 16,
   "metadata": {
    "collapsed": false
   },
   "outputs": [],
   "source": [
    "transformedData = model.transform(flat_data_filtered, ages)"
   ]
  },
  {
   "cell_type": "code",
   "execution_count": 68,
   "metadata": {
    "collapsed": false
   },
   "outputs": [
    {
     "data": {
      "text/plain": [
       "7.2521072796934876"
      ]
     },
     "execution_count": 68,
     "metadata": {},
     "output_type": "execute_result"
    }
   ],
   "source": [
    "from sklearn.ensemble import RandomForestRegressor as rfr\n",
    "from sklearn.cross_validation import train_test_split\n",
    "\n",
    "X_train, X_test, y_train, y_test = train_test_split(transformedData, ages, test_size=0.2)\n",
    "\n",
    "mod = rfr(n_estimators=75)\n",
    "mod.fit(X_train, y_train)\n",
    "y_out = np.array(mod.predict(X_test))\n",
    "y_test = np.array(y_test, dtype='float64')\n",
    "res = abs(y_out - y_test)\n",
    "np.mean(res)"
   ]
  },
  {
   "cell_type": "code",
   "execution_count": 7,
   "metadata": {
    "collapsed": false
   },
   "outputs": [
    {
     "name": "stdout",
     "output_type": "stream",
     "text": [
      "The scikit-learn version is 0.17.1.\n"
     ]
    }
   ],
   "source": [
    "import sklearn\n",
    "print('The scikit-learn version is {}.'.format(sklearn.__version__))"
   ]
  }
 ],
 "metadata": {
  "kernelspec": {
   "display_name": "Python 2",
   "language": "python",
   "name": "python2"
  },
  "language_info": {
   "codemirror_mode": {
    "name": "ipython",
    "version": 2
   },
   "file_extension": ".py",
   "mimetype": "text/x-python",
   "name": "python",
   "nbconvert_exporter": "python",
   "pygments_lexer": "ipython2",
   "version": "2.7.12"
  }
 },
 "nbformat": 4,
 "nbformat_minor": 0
}
