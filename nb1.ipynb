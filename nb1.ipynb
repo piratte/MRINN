{
 "cells": [
  {
   "cell_type": "code",
   "execution_count": 2,
   "metadata": {
    "collapsed": true
   },
   "outputs": [],
   "source": [
    "import nibabel as nib\n",
    "import numpy as np\n",
    "\n",
    "all_data = []\n",
    "for i in range(1, 42):\n",
    "    try:\n",
    "        img = nib.load('data/disc1/OAS1_00%02d_MR1/RAW/OAS1_00%02d_MR1_mpr-1_anon.img' % (i, i))\n",
    "    except FileNotFoundError:\n",
    "        continue\n",
    "    data = img.get_data()\n",
    "    all_data.append(data)\n",
    "all_data = np.asarray(all_data)"
   ]
  },
  {
   "cell_type": "code",
   "execution_count": null,
   "metadata": {},
   "outputs": [],
   "source": [
    "all_data.shape"
   ]
  }
 ],
 "metadata": {
  "kernelspec": {
   "display_name": "Python 2",
   "language": "python",
   "name": "python2"
  },
  "language_info": {
   "codemirror_mode": {
    "name": "ipython",
    "version": 2.0
   },
   "file_extension": ".py",
   "mimetype": "text/x-python",
   "name": "python",
   "nbconvert_exporter": "python",
   "pygments_lexer": "ipython2",
   "version": "2.7.6"
  }
 },
 "nbformat": 4,
 "nbformat_minor": 0
}