{
 "cells": [
  {
   "cell_type": "code",
   "execution_count": null,
   "metadata": {
    "collapsed": true
   },
   "outputs": [],
   "source": [
    "import numpy as np\n",
    "\n",
    "transformedData = np.load('transformedData.npy')\n",
    "ages = np.load('ages.npy')\n",
    "sexes = np.load('sexes.npy')"
   ]
  },
  {
   "cell_type": "markdown",
   "metadata": {},
   "source": [
    "## Classic ML classifier"
   ]
  },
  {
   "cell_type": "code",
   "execution_count": null,
   "metadata": {
    "collapsed": true
   },
   "outputs": [],
   "source": [
    "# from sklearn.ensemble import RandomForestRegressor as rfr\n",
    "from sklearn.linear_model import LogisticRegression\n",
    "from sklearn.cross_validation import train_test_split\n",
    "from sklearn.metrics import mean_squared_error\n",
    "\n",
    "X_train, X_test, y_train, y_test = train_test_split(transformedData, ages, test_size=0.2)\n",
    "\n",
    "mod = LogisticRegression(n_jobs=-1)\n",
    "mod.fit(X_train, y_train)\n",
    "#y_out = np.array(mod.predict(X_test))\n",
    "# y_test = np.array(y_test, dtype='float64')\n",
    "score = mean_squared_error(np.array(y_test, dtype='float64'), np.array(mod.predict(X_test),dtype='float64'))\n",
    "\n",
    "for i in range(0,y_test.shape[0]):\n",
    "    print mod.predict(X_test[i]), y_test[i]"
   ]
  },
  {
   "cell_type": "markdown",
   "metadata": {},
   "source": [
    "## Neural Net"
   ]
  },
  {
   "cell_type": "code",
   "execution_count": null,
   "metadata": {
    "collapsed": true
   },
   "outputs": [],
   "source": [
    "from keras.models import Sequential\n",
    "from keras.layers import Dense\n",
    "from keras.wrappers.scikit_learn import KerasRegressor\n",
    "\n",
    "from sklearn.preprocessing import StandardScaler\n",
    "from sklearn.pipeline import Pipeline\n",
    "from sklearn.cross_validation import KFold,cross_val_score\n",
    "\n",
    "# define base mode\n",
    "def baseline_model():\n",
    "    # create model\n",
    "    model = Sequential()\n",
    "    model.add(Dense(transformedData.shape[1], input_dim=transformedData.shape[1], init='normal', activation='sigmoid'))\n",
    "    #model.add(Dense(20, init='normal', activation='relu'))\n",
    "    #model.add(Dense(25, init='normal', activation='relu'))\n",
    "    #model.add(Dense(10, init='normal', activation='relu'))\n",
    "    model.add(Dense(1, init='normal'))\n",
    "    # Compile model\n",
    "    model.compile(loss='mean_squared_error', optimizer='adam', metrics=['accuracy'])\n",
    "    return model\n",
    "\n",
    "\n",
    "#steps = []\n",
    "#steps.append(('scale',StandardScaler()))\n",
    "#steps.append(('neural_net', KerasRegressor(build_fn=baseline_model, nb_epoch=300, batch_size=50, verbose=0)))\n",
    "\n",
    "# fix random seed for reproducibility\n",
    "#seed = 13\n",
    "#np.random.seed(seed)\n",
    "#kfold = KFold(transformedData.shape[0],n_folds=8, random_state=seed)\n",
    "#results = cross_val_score(Pipeline(steps), transformedData, ages, cv=kfold)\n",
    "#print(\"Results: %.2f (%.2f) MSE\" % (results.mean(), results.std()))\n",
    "\n",
    "import matplotlib.pyplot as plt\n",
    "%matplotlib inline\n",
    "\n",
    "scaler = StandardScaler().fit(transformedData)\n",
    "X = scaler.transform(transformedData)\n",
    "model = KerasRegressor(build_fn=baseline_model, nb_epoch=5000, batch_size=50, verbose=0)\n",
    "history = model.fit(X[sexes!='Male'], ages[sexes!='Male'], validation_split=0.15, verbose=0)\n",
    "plt.plot(history.history['acc'])\n",
    "plt.plot(history.history['val_acc'])\n",
    "plt.title('model accuracy')\n",
    "plt.ylabel('accuracy')\n",
    "plt.xlabel('epoch')\n",
    "plt.legend(['train', 'test'], loc='upper left')"
   ]
  },
  {
   "cell_type": "code",
   "execution_count": null,
   "metadata": {
    "collapsed": true
   },
   "outputs": [],
   "source": [
    "X_train, X_test, y_train, y_test = train_test_split(transformedData[sexes!='Male'], ages[sexes!='Male'], test_size=0.2)\n",
    "\n",
    "for i in range(0,y_test.shape[0]):\n",
    "    #print mod.predict(X_test[i].reshape(1,25)), y_test[i]\n",
    "    pass\n",
    "print sum(sexes=='Male'), sum(sexes!='Male')\n",
    "plt.hist(np.array(ages, dtype='int16'))"
   ]
  }
 ],
 "metadata": {
  "kernelspec": {
   "display_name": "Python 2",
   "language": "python",
   "name": "python2"
  },
  "language_info": {
   "codemirror_mode": {
    "name": "ipython",
    "version": 2
   },
   "file_extension": ".py",
   "mimetype": "text/x-python",
   "name": "python",
   "nbconvert_exporter": "python",
   "pygments_lexer": "ipython2",
   "version": "2.7.12"
  }
 },
 "nbformat": 4,
 "nbformat_minor": 0
}
