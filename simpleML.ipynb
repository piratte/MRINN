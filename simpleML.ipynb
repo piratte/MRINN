{
 "cells": [
  {
   "cell_type": "code",
   "execution_count": 1,
   "metadata": {
    "collapsed": false
   },
   "outputs": [
    {
     "data": {
      "text/plain": [
       "((416, 100), dtype('float64'))"
      ]
     },
     "execution_count": 1,
     "metadata": {},
     "output_type": "execute_result"
    }
   ],
   "source": [
    "import numpy as np\n",
    "\n",
    "#transformedData = np.load('transformedData2.npy')\n",
    "transformedData = np.load('X.npy')\n",
    "# ages = np.array(np.load('ages.npy'),dtype='float64')\n",
    "ages = np.load('ages2.npy')\n",
    "sexes = np.load('sexes2.npy')\n",
    "transformedData.shape, ages.dtype"
   ]
  },
  {
   "cell_type": "markdown",
   "metadata": {},
   "source": [
    "## Classic ML classifier"
   ]
  },
  {
   "cell_type": "code",
   "execution_count": 9,
   "metadata": {
    "collapsed": false
   },
   "outputs": [
    {
     "name": "stdout",
     "output_type": "stream",
     "text": [
      "50 106.250312802\n",
      "65 104.530033592\n",
      "80 104.410779199\n",
      "95 103.981727011\n",
      "110 102.967947606\n",
      "125 103.240068672\n",
      "140 103.050932291\n",
      "155 103.055858463\n",
      "170 103.320811262\n",
      "185 102.771718971\n",
      "200 103.350904089\n",
      "215 103.282873237\n",
      "230 103.00115722\n",
      "245 103.257456487\n",
      "260 102.936998749\n",
      "275 103.092325906\n",
      "290 103.076418432\n",
      "305 103.585968207\n",
      "320 103.205256306\n",
      "335 103.120290977\n",
      "350 103.277168089\n",
      "365 103.167998423\n",
      "380 103.447392511\n",
      "395 103.107713127\n",
      "410 103.034841123\n",
      "425 103.332531827\n",
      "440 103.247810042\n",
      "455 103.404531784\n",
      "470 103.248763672\n",
      "485 103.21533797\n"
     ]
    }
   ],
   "source": [
    "from sklearn.ensemble import RandomForestRegressor, GradientBoostingRegressor\n",
    "from sklearn.linear_model import LogisticRegression\n",
    "from sklearn.cross_validation import train_test_split, StratifiedKFold\n",
    "from sklearn.metrics import mean_squared_error\n",
    "\n",
    "#X_train, X_test, y_train, y_test = train_test_split(transformedData, ages, test_size=0.2)\n",
    "skf = StratifiedKFold(ages, n_folds=3)\n",
    "\n",
    "best = 500, None\n",
    "for i in range(50,500,15):\n",
    "    vals = []\n",
    "    for train_index, test_index in skf:\n",
    "        X_train, X_test = transformedData[train_index], transformedData[test_index]\n",
    "        y_train, y_test = ages[train_index], ages[test_index]\n",
    "        #mod = LogisticRegression(n_jobs=-1)\n",
    "        mod = GradientBoostingRegressor(n_estimators=i, max_depth=3)\n",
    "        mod.fit(X_train, y_train)\n",
    "        #y_out = np.array(mod.predict(X_test))\n",
    "        # y_test = np.array(y_test, dtype='float64')\n",
    "        score = mean_squared_error(np.array(y_test, dtype='float64'), np.array(mod.predict(X_test),dtype='float64'))\n",
    "        #if score < best[0]: best = score,i \n",
    "        vals.append(score)\n",
    "    print i,np.mean(vals)\n",
    "\n",
    "#for i in range(0,y_test.shape[0]):\n",
    "#    print mod.predict(X_test[i]), y_test[i]"
   ]
  },
  {
   "cell_type": "markdown",
   "metadata": {},
   "source": [
    "| Components | Reducing Alg. | Num of cls | Max depth | Classifying Alg. | MSE |\n",
    "|---|---|---|---|----|---|\n",
    "|40 |PCA|185| 2 | Grad| 105|\n",
    "|100|FA |185| 3 | Grad| 102|"
   ]
  },
  {
   "cell_type": "markdown",
   "metadata": {},
   "source": [
    "## Neural Net"
   ]
  },
  {
   "cell_type": "code",
   "execution_count": null,
   "metadata": {
    "collapsed": false
   },
   "outputs": [
    {
     "name": "stderr",
     "output_type": "stream",
     "text": [
      "Using TensorFlow backend.\n"
     ]
    }
   ],
   "source": [
    "from keras.models import Sequential\n",
    "from keras.layers import Dense, Dropout\n",
    "from keras.wrappers.scikit_learn import KerasRegressor,KerasClassifier\n",
    "from keras.layers.advanced_activations import ELU\n",
    "\n",
    "from sklearn.preprocessing import StandardScaler, Normalizer, RobustScaler, LabelBinarizer\n",
    "from sklearn.pipeline import Pipeline\n",
    "from sklearn.cross_validation import KFold,cross_val_score,train_test_split\n",
    "\n",
    "# define base mode\n",
    "def baseline_model():\n",
    "    # create model\n",
    "    model = Sequential()\n",
    "    model.add(Dense(transformedData.shape[1], input_dim=transformedData.shape[1], init='normal', activation=ELU(alpha=1.0)))\n",
    "    model.add(Dropout(0.1))\n",
    "    model.add(Dense(transformedData.shape[1]/2, init='normal', activation=ELU(alpha=1.0)))\n",
    "    #model.add(Dense(25, init='normal', activation='relu'))\n",
    "    #model.add(Dense(10, init='normal', activation='relu'))\n",
    "    model.add(Dense(1, init='normal'))\n",
    "    # Compile model\n",
    "    model.compile(loss='mean_squared_error', optimizer='adam', metrics=['accuracy'])\n",
    "    return model\n",
    "\n",
    "\n",
    "#steps = []\n",
    "#steps.append(('scale',StandardScaler()))\n",
    "#steps.append(('neural_net', KerasRegressor(build_fn=baseline_model, nb_epoch=300, batch_size=50, verbose=0)))\n",
    "\n",
    "# fix random seed for reproducibility\n",
    "#seed = 13\n",
    "#np.random.seed(seed)\n",
    "#kfold = KFold(transformedData.shape[0],n_folds=8, random_state=seed)\n",
    "#results = cross_val_score(Pipeline(steps), transformedData, ages, cv=kfold)\n",
    "#print(\"Results: %.2f (%.2f) MSE\" % (results.mean(), results.std()))\n",
    "\n",
    "import matplotlib.pyplot as plt\n",
    "%matplotlib inline\n",
    "\n",
    "scaler = Normalizer().fit(transformedData)\n",
    "X = scaler.transform(transformedData)\n",
    "X_train, X_test, y_train, y_test = train_test_split(X, ages, test_size=0.1)\n",
    "#X_train, X_test, y_train, y_test = train_test_split(X, LabelBinarizer().fit_transform(sexes), test_size=0.1)\n",
    "\n",
    "model = KerasRegressor(build_fn=baseline_model, nb_epoch=100000, batch_size=5, verbose=0)\n",
    "#model = KerasClassifier(build_fn=baseline_model, nb_epoch=80000, batch_size=500, verbose=0)\n",
    "history = model.fit(X_train, y_train, validation_split=0.1, verbose=0)\n",
    "plt.plot(history.history['acc'])\n",
    "plt.plot(history.history['val_acc'])\n",
    "plt.title('model accuracy')\n",
    "plt.ylabel('accuracy')\n",
    "plt.xlabel('epoch')\n",
    "plt.legend(['train', 'test'], loc='upper left')"
   ]
  },
  {
   "cell_type": "code",
   "execution_count": 49,
   "metadata": {
    "collapsed": false
   },
   "outputs": [
    {
     "name": "stdout",
     "output_type": "stream",
     "text": [
      "24.1250495911 20\n",
      "24.1272144318 81\n",
      "24.1234340668 20\n",
      "24.1252479553 21\n",
      "24.1259174347 24\n",
      "24.1273574829 84\n",
      "24.1248855591 21\n",
      "24.123167038 23\n",
      "24.1269435883 76\n",
      "24.1273670197 48\n",
      "24.1223602295 23\n",
      "24.1232509613 19\n",
      "24.1209564209 21\n",
      "24.1234951019 23\n",
      "24.1254253387 41\n",
      "24.1269130707 74\n",
      "24.1272830963 66\n",
      "24.1274280548 65\n",
      "24.1264572144 29\n",
      "24.1270751953 87\n",
      "24.1273975372 96\n",
      "24.1257266998 23\n",
      "24.1231918335 24\n",
      "24.1271724701 58\n",
      "24.1271762848 68\n",
      "24.1269569397 46\n",
      "24.1235313416 25\n",
      "24.1275043488 75\n",
      "24.1273918152 80\n",
      "24.1217956543 25\n",
      "24.1272125244 81\n",
      "24.1272525787 74\n",
      "24.1238937378 18\n",
      "24.1229972839 23\n",
      "24.1269874573 86\n",
      "24.1249599457 22\n",
      "24.1213474274 20\n",
      "24.1240673065 38\n",
      "24.1220302582 21\n",
      "24.127412796 73\n",
      "24.1231861115 24\n",
      "24.1263637543 26\n",
      "24.1254711151 30\n",
      "24.1248950958 22\n",
      "24.1273937225 89\n",
      "24.1270999908 90\n",
      "24.1226348877 21\n",
      "24.1273326874 78\n",
      "24.1231994629 23\n",
      "24.1272335052 84\n",
      "24.1271839142 80\n",
      "24.1274719238 83\n",
      "24.1223106384 20\n",
      "24.1225910187 20\n",
      "24.1274452209 72\n",
      "24.1273899078 75\n",
      "24.1274700165 70\n",
      "24.1233787537 22\n",
      "24.1250705719 21\n",
      "24.1270389557 77\n",
      "24.1267108917 30\n",
      "24.1247425079 18\n",
      "24.1274318695 64\n",
      "24.1272754669 90\n",
      "24.1232376099 21\n",
      "24.1230297089 20\n",
      "24.1272563934 73\n",
      "24.1231002808 20\n",
      "24.1255550385 22\n",
      "24.1229534149 19\n",
      "24.1263256073 50\n",
      "24.12251091 22\n",
      "24.1271953583 72\n",
      "24.1249713898 21\n",
      "24.1272907257 73\n",
      "24.127073288 82\n",
      "24.1273803711 75\n",
      "24.1272068024 89\n",
      "24.1269798279 81\n",
      "24.127035141 84\n",
      "24.1273326874 86\n",
      "24.1253528595 19\n",
      "24.1240501404 21\n",
      "24.1253223419 48\n",
      "24.1274185181 83\n",
      "24.1271839142 94\n",
      "24.1232433319 24\n"
     ]
    },
    {
     "data": {
      "text/plain": [
       "(array([ 0.,  0.,  0.,  0.,  0.,  0.,  0.,  0.,  0.,  0.]),\n",
       " array([ 0. ,  0.1,  0.2,  0.3,  0.4,  0.5,  0.6,  0.7,  0.8,  0.9,  1. ]),\n",
       " <a list of 10 Patch objects>)"
      ]
     },
     "execution_count": 49,
     "metadata": {},
     "output_type": "execute_result"
    },
    {
     "data": {
      "image/png": "[encoded data removed]",
      "text/plain": [
       "<matplotlib.figure.Figure at 0x7f9c891f3c50>"
      ]
     },
     "metadata": {},
     "output_type": "display_data"
    }
   ],
   "source": [
    "from sklearn.cross_validation import train_test_split\n",
    "from sklearn.preprocessing import StandardScaler, Normalizer\n",
    "\n",
    "#X_train, X_test, y_train, y_test = train_test_split(transformedData[sexes!='Male'], ages[sexes!='Male'], test_size=0.2)\n",
    "#scaler = Normalizer().fit(transformedData)\n",
    "#X = scaler.transform(transformedData)\n",
    "\n",
    "X_train, X_test, y_train, y_test = train_test_split(X, ages, test_size=0.2)\n",
    "\n",
    "#model = KerasRegressor(build_fn=baseline_model, nb_epoch=800, batch_size=50, verbose=0)\n",
    "#history = model.fit(X_train, y_train, validation_split=0.15, verbose=0)\n",
    "errors = []\n",
    "for i in range(0,y_test.shape[0]):\n",
    "    #errors.append(history.model.predict(X_test[i].reshape(1,25)) - float(y_test[i]))\n",
    "    print model.predict(X_test[i].reshape(1,25)), y_test[i]\n",
    "plt.hist(errors)"
   ]
  },
  {
   "cell_type": "code",
   "execution_count": 44,
   "metadata": {
    "collapsed": false
   },
   "outputs": [
    {
     "data": {
      "text/plain": [
       "['model', 'params', 'epoch', 'history']"
      ]
     },
     "execution_count": 44,
     "metadata": {},
     "output_type": "execute_result"
    }
   ],
   "source": [
    "#print sum(sexes=='Male'), sum(sexes!='Male')\n",
    "#plt.hist(np.array(ages, dtype='int16'))\n",
    "history.__dict__.keys()"
   ]
  },
  {
   "cell_type": "code",
   "execution_count": 45,
   "metadata": {
    "collapsed": false
   },
   "outputs": [
    {
     "data": {
      "text/plain": [
       "dtype('<U2')"
      ]
     },
     "execution_count": 45,
     "metadata": {},
     "output_type": "execute_result"
    }
   ],
   "source": [
    "y_test.dtype"
   ]
  }
 ],
 "metadata": {
  "kernelspec": {
   "display_name": "Python 2",
   "language": "python",
   "name": "python2"
  },
  "language_info": {
   "codemirror_mode": {
    "name": "ipython",
    "version": 2
   },
   "file_extension": ".py",
   "mimetype": "text/x-python",
   "name": "python",
   "nbconvert_exporter": "python",
   "pygments_lexer": "ipython2",
   "version": "2.7.12"
  }
 },
 "nbformat": 4,
 "nbformat_minor": 0
}
