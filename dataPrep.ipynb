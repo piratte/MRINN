{
 "cells": [
  {
   "cell_type": "code",
   "execution_count": 1,
   "metadata": {
    "collapsed": false
   },
   "outputs": [],
   "source": [
    "import nibabel as nib\n",
    "import numpy as np\n",
    "import os\n",
    "\n",
    "flat_data = []\n",
    "ages = []\n",
    "sexes = []\n",
    "dementiaClass = []\n",
    "non_zeros = np.load('non_zeros.npy')\n",
    "fails = 0\n",
    "rootDir = 'data'\n",
    "dirName, subdirList, fileList = os.walk(rootDir).next()\n",
    "for f in sorted(fileList):\n",
    "    if \"MR1\" not in f: continue\n",
    "    if \"txt\" in f: \n",
    "        sessionID = f.split('.')[0]\n",
    "        with open(rootDir + \"/\" + f) as metadataFile:\n",
    "            for line in metadataFile:\n",
    "                if \"AGE:\" in line:\n",
    "                    ages.append(int(list(filter(None, line.split()))[1]))\n",
    "                elif \"M/F:\" in line:\n",
    "                    sexes.append(list(filter(None, line.split()))[1])\n",
    "                elif \"CDR\" in line:\n",
    "                    try:\n",
    "                        dementiaClass.append(int(list(filter(None, line.split()))[1]))\n",
    "                    except:\n",
    "                        fails += 1\n",
    "                        dementiaClass.append(-1)\n",
    "                    break\n",
    "                \n",
    "    elif \"img\" in f:\n",
    "        data = nib.load(rootDir + \"/\" + f).get_data()\n",
    "        #flat_data.append(data.flatten(order='C')[non_zeros])\n",
    "        flat_data.append(data.flatten(order='F')[non_zeros])\n",
    "\n",
    "flat_data_np = np.array(flat_data)\n",
    "ages = np.array(ages, dtype='float64')\n",
    "dementiaClass = np.array(dementiaClass)\n",
    "                                \n",
    "# WARNING: UNCOMMENTING THE FOLLOWING LINES WILL OVERWRITE YOUR BACKUPS\n",
    "\n",
    "#np.save('flat_data2', flat_data_np)\n",
    "#np.save('ages2', ages)\n",
    "#np.save('sexes2', sexes)\n",
    "#np.save('dementia', dementiaClass)"
   ]
  },
  {
   "cell_type": "code",
   "execution_count": 1,
   "metadata": {
    "collapsed": true
   },
   "outputs": [],
   "source": [
    "import numpy as np\n",
    "\n",
    "ages = np.load('ages.npy')\n",
    "#sexes = np.load('sexes.npy')\n",
    "flat_data_np = np.load('flat_data.npy')"
   ]
  },
  {
   "cell_type": "code",
   "execution_count": 2,
   "metadata": {
    "collapsed": false
   },
   "outputs": [
    {
     "data": {
      "text/plain": [
       "(416, 1420948)"
      ]
     },
     "execution_count": 2,
     "metadata": {},
     "output_type": "execute_result"
    }
   ],
   "source": [
    "# finding items, that are equal everywhere\n",
    "notTheSame = np.where(np.not_equal(flat_data_np[0], flat_data_np[1]))[0]\n",
    "for element in flat_data_np:\n",
    "    inds = np.where(np.not_equal(flat_data_np[0], flat_data_np[1]))[0]\n",
    "    notTheSame = np.intersect1d(notTheSame, inds)\n",
    "    \n",
    "flat_data_filtered = flat_data_np[:,notTheSame]\n",
    "flat_data_np = None\n",
    "notTheSame = None # freeing up some memory\n",
    "flat_data_filtered.shape"
   ]
  },
  {
   "cell_type": "code",
   "execution_count": 50,
   "metadata": {
    "collapsed": true
   },
   "outputs": [],
   "source": [
    "from sklearn.feature_selection import SelectKBest, chi2\n",
    "\n",
    "X = SelectKBest(chi2, k=200).fit_transform(flat_data_filtered, ages)\n",
    "np.save('X', X)"
   ]
  },
  {
   "cell_type": "code",
   "execution_count": 5,
   "metadata": {
    "collapsed": false
   },
   "outputs": [
    {
     "ename": "AttributeError",
     "evalue": "'FactorAnalysis' object has no attribute 'explained_variance_'",
     "output_type": "error",
     "traceback": [
      "\u001b[0;31m---------------------------------------------------------------------------\u001b[0m",
      "\u001b[0;31mAttributeError\u001b[0m                            Traceback (most recent call last)",
      "\u001b[0;32m<ipython-input-5-6d2ba406e5a2>\u001b[0m in \u001b[0;36m<module>\u001b[0;34m()\u001b[0m\n\u001b[1;32m      6\u001b[0m \u001b[0mtransformer\u001b[0m \u001b[0;34m=\u001b[0m \u001b[0mFactorAnalysis\u001b[0m\u001b[0;34m(\u001b[0m\u001b[0mn_components\u001b[0m\u001b[0;34m=\u001b[0m\u001b[0;36m100\u001b[0m\u001b[0;34m)\u001b[0m\u001b[0;34m\u001b[0m\u001b[0m\n\u001b[1;32m      7\u001b[0m \u001b[0mmodel\u001b[0m \u001b[0;34m=\u001b[0m \u001b[0mtransformer\u001b[0m\u001b[0;34m.\u001b[0m\u001b[0mfit\u001b[0m\u001b[0;34m(\u001b[0m\u001b[0mflat_data_filtered\u001b[0m\u001b[0;34m,\u001b[0m \u001b[0mages\u001b[0m\u001b[0;34m)\u001b[0m\u001b[0;34m\u001b[0m\u001b[0m\n\u001b[0;32m----> 8\u001b[0;31m \u001b[0mplt\u001b[0m\u001b[0;34m.\u001b[0m\u001b[0mplot\u001b[0m\u001b[0;34m(\u001b[0m\u001b[0mmodel\u001b[0m\u001b[0;34m.\u001b[0m\u001b[0mexplained_variance_\u001b[0m\u001b[0;34m)\u001b[0m\u001b[0;34m\u001b[0m\u001b[0m\n\u001b[0m",
      "\u001b[0;31mAttributeError\u001b[0m: 'FactorAnalysis' object has no attribute 'explained_variance_'"
     ]
    }
   ],
   "source": [
    "from sklearn.decomposition import IncrementalPCA,FactorAnalysis\n",
    "import matplotlib.pyplot as plt\n",
    "%matplotlib inline\n",
    "\n",
    "#transformer = IncrementalPCA(batch_size=105, n_components=100)\n",
    "transformer = FactorAnalysis(n_components=100)\n",
    "model = transformer.fit(flat_data_filtered, ages)\n",
    "#plt.plot(model.explained_variance_)"
   ]
  },
  {
   "cell_type": "code",
   "execution_count": 7,
   "metadata": {
    "collapsed": false
   },
   "outputs": [],
   "source": [
    "transformedData = model.transform(flat_data_filtered)\n",
    "np.save('X',transformedData)"
   ]
  },
  {
   "cell_type": "code",
   "execution_count": 13,
   "metadata": {
    "collapsed": false
   },
   "outputs": [
    {
     "data": {
      "text/plain": [
       "(array([  2.,   2.,  15.,  11.,  15.,  17.,  29.,  16.,  13.,  15.]),\n",
       " array([ 33. ,  39.1,  45.2,  51.3,  57.4,  63.5,  69.6,  75.7,  81.8,\n",
       "         87.9,  94. ]),\n",
       " <a list of 10 Patch objects>)"
      ]
     },
     "execution_count": 13,
     "metadata": {},
     "output_type": "execute_result"
    },
    {
     "data": {
      "image/png": "[encoded data removed]",
      "text/plain": [
       "<matplotlib.figure.Figure at 0x7f09958f95d0>"
      ]
     },
     "metadata": {},
     "output_type": "display_data"
    }
   ],
   "source": [
    "#transformedData = np.load('transformedData2.npy')\n",
    "import matplotlib.pyplot as plt\n",
    "%matplotlib inline\n",
    "#dementiaClass = np.array(dementiaClass)\n",
    "plt.hist(ages[np.where(dementiaClass == 0)])\n",
    "#dementiaClass.dtype\n",
    "#min(transformedData[:,4]), max(transformedData[:,4])"
   ]
  }
 ],
 "metadata": {
  "kernelspec": {
   "display_name": "Python 2",
   "language": "python",
   "name": "python2"
  },
  "language_info": {
   "codemirror_mode": {
    "name": "ipython",
    "version": 2
   },
   "file_extension": ".py",
   "mimetype": "text/x-python",
   "name": "python",
   "nbconvert_exporter": "python",
   "pygments_lexer": "ipython2",
   "version": "2.7.12"
  }
 },
 "nbformat": 4,
 "nbformat_minor": 0
}
