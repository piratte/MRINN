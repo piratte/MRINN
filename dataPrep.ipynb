{
 "cells": [
  {
   "cell_type": "code",
   "execution_count": 4,
   "metadata": {
    "collapsed": false
   },
   "outputs": [],
   "source": [
    "import nibabel as nib\n",
    "import numpy as np\n",
    "import os\n",
    "\n",
    "flat_data = []\n",
    "all_data = []\n",
    "ages = []\n",
    "sexes = []\n",
    "dementiaClass = []\n",
    "non_zeros = np.load('non_zeros.npy')\n",
    "fails = 0\n",
    "rootDir = 'data'\n",
    "dirName, subdirList, fileList = os.walk(rootDir).next()\n",
    "for f in sorted(fileList):\n",
    "    if \"MR1\" not in f: continue\n",
    "    if \"txt\" in f: \n",
    "        sessionID = f.split('.')[0]\n",
    "        with open(rootDir + \"/\" + f) as metadataFile:\n",
    "            for line in metadataFile:\n",
    "                if \"AGE:\" in line:\n",
    "                    ages.append(int(list(filter(None, line.split()))[1]))\n",
    "                elif \"M/F:\" in line:\n",
    "                    sexes.append(list(filter(None, line.split()))[1])\n",
    "                elif \"CDR\" in line:\n",
    "                    try:\n",
    "                        dementiaClass.append(int(list(filter(None, line.split()))[1]))\n",
    "                    except:\n",
    "                        fails += 1\n",
    "                        dementiaClass.append(-1)\n",
    "                    break\n",
    "                \n",
    "    elif \"img\" in f:\n",
    "        data = nib.load(rootDir + \"/\" + f).get_data()\n",
    "        # print data.shape\n",
    "        all_data.append(data)\n",
    "        #flat_data.append(data.flatten(order='C')[non_zeros])\n",
    "        #flat_data.append(data.flatten(order='F')[non_zeros])\n",
    "\n",
    "#flat_data_np = np.array(flat_data)\n",
    "all_data = np.squeeze(np.array(all_data))\n",
    "ages = np.array(ages, dtype='float64')\n",
    "dementiaClass = np.array(dementiaClass)\n",
    "                                \n",
    "# WARNING: UNCOMMENTING THE FOLLOWING LINES WILL OVERWRITE YOUR BACKUPS\n",
    "\n",
    "#np.save('flat_data2', flat_data_np)\n",
    "#np.save('ages2', ages)\n",
    "#np.save('sexes2', sexes)\n",
    "#np.save('dementia', dementiaClass)"
   ]
  },
  {
   "cell_type": "markdown",
   "metadata": {},
   "source": [
    "### Creating histograms from data"
   ]
  },
  {
   "cell_type": "code",
   "execution_count": null,
   "metadata": {
    "collapsed": false
   },
   "outputs": [],
   "source": [
    "split_num = 3\n",
    "n_bins = 20\n",
    "\n",
    "\n",
    "x_chunk_size = all_data.shape[1]/split_num\n",
    "y_chunk_size = all_data.shape[2]/split_num\n",
    "z_chunk_size = all_data.shape[3]/split_num\n",
    "\n",
    "hist_data = []\n",
    "\n",
    "for scan in all_data:\n",
    "    scan_hists = np.array([])\n",
    "    i = 0\n",
    "    for x_ind in range(0,split_num):\n",
    "        for y_ind in range(0,split_num):\n",
    "            for z_ind in range(0,split_num):\n",
    "                chunk = scan[x_ind*x_chunk_size:(x_ind+1)*x_chunk_size, \n",
    "                             y_ind*y_chunk_size:(y_ind+1)*y_chunk_size,\n",
    "                             z_ind*z_chunk_size:(z_ind+1)*z_chunk_size]\n",
    "                #print chunk.shape\n",
    "                scan_hists = np.append(scan_hists, np.histogram(np.array(chunk).flatten(), bins=n_bins)[0])\n",
    "    # print scan_hists.shape, scan_hists.dtype\n",
    "    hist_data.append(scan_hists)\n",
    "\n",
    "hist_data = np.array(hist_data)\n",
    "\n",
    "# freeing up mem\n",
    "scan_hists = None\n",
    "chunk = None"
   ]
  },
  {
   "cell_type": "code",
   "execution_count": 3,
   "metadata": {
    "collapsed": false
   },
   "outputs": [],
   "source": [
    "np.save('hist_data', flat_data_filtered)\n",
    "#hist_data.shape"
   ]
  },
  {
   "cell_type": "code",
   "execution_count": 6,
   "metadata": {
    "collapsed": true
   },
   "outputs": [],
   "source": [
    "import numpy as np\n",
    "\n",
    "ages = np.load('ages.npy')\n",
    "sexes = np.load('sexes.npy')\n",
    "# flat_data_np = np.load('flat_data.npy')\n",
    "#flat_data_np = np.load('hist_data.npy')"
   ]
  },
  {
   "cell_type": "code",
   "execution_count": 2,
   "metadata": {
    "collapsed": false
   },
   "outputs": [
    {
     "data": {
      "text/plain": [
       "(416, 511)"
      ]
     },
     "execution_count": 2,
     "metadata": {},
     "output_type": "execute_result"
    }
   ],
   "source": [
    "# finding items, that are equal everywhere\n",
    "notTheSame = np.where(np.not_equal(flat_data_np[0], flat_data_np[1]))[0]\n",
    "for element in flat_data_np:\n",
    "    inds = np.where(np.not_equal(flat_data_np[0], flat_data_np[1]))[0]\n",
    "    notTheSame = np.intersect1d(notTheSame, inds)\n",
    "    \n",
    "flat_data_filtered = flat_data_np[:,notTheSame]\n",
    "flat_data_np = None\n",
    "notTheSame = None # freeing up some memory\n",
    "flat_data_filtered.shape"
   ]
  },
  {
   "cell_type": "code",
   "execution_count": null,
   "metadata": {
    "collapsed": true
   },
   "outputs": [],
   "source": [
    "from sklearn.feature_selection import SelectKBest, chi2\n",
    "\n",
    "X = SelectKBest(chi2, k=200).fit_transform(flat_data_filtered, ages)\n",
    "np.save('X', X)"
   ]
  },
  {
   "cell_type": "code",
   "execution_count": null,
   "metadata": {
    "collapsed": false
   },
   "outputs": [],
   "source": [
    "from sklearn.decomposition import PCA,IncrementalPCA,FactorAnalysis\n",
    "import matplotlib.pyplot as plt\n",
    "%matplotlib inline\n",
    "\n",
    "try: \n",
    "    X = flat_data_filtered\n",
    "except NameError:\n",
    "    X = flat_data_np\n",
    "    \n",
    "#transformer = IncrementalPCA(batch_size=105, n_components=100)\n",
    "#transformer = FactorAnalysis(n_components=100)\n",
    "transformer = PCA(n_components=100)\n",
    "model = transformer.fit(X, ages)\n",
    "plt.plot(model.explained_variance_)"
   ]
  },
  {
   "cell_type": "code",
   "execution_count": null,
   "metadata": {
    "collapsed": false
   },
   "outputs": [],
   "source": [
    "transformedData = model.transform(X)\n",
    "np.save('X',transformedData)"
   ]
  },
  {
   "cell_type": "code",
   "execution_count": 32,
   "metadata": {
    "collapsed": false
   },
   "outputs": [
    {
     "data": {
      "text/plain": [
       "163"
      ]
     },
     "execution_count": 32,
     "metadata": {},
     "output_type": "execute_result"
    },
    {
     "data": {
      "image/png": "[encoded data removed]",
      "text/plain": [
       "<matplotlib.figure.Figure at 0x7f61841e9590>"
      ]
     },
     "metadata": {},
     "output_type": "display_data"
    }
   ],
   "source": [
    "#transformedData = np.load('transformedData2.npy')\n",
    "import matplotlib.pyplot as plt\n",
    "%matplotlib inline\n",
    "dementiaClass = np.array(dementiaClass)\n",
    "plt.hist(dementiaClass.astype('int16'), bins=5)#[np.where(dementiaClass == 0)])\n",
    "sum(dementiaClass != -1)\n",
    "#dementiaClass.dtype\n",
    "#min(transformedData[:,4]), max(transformedData[:,4])\n",
    "\n",
    "#import pandas\n",
    "#from collections import Counter\n",
    "#counts = Counter(sexes)\n",
    "#df = pandas.DataFrame.from_dict(counts, orient='index')\n",
    "#df.plot(kind='bar', legend=False)\n"
   ]
  }
 ],
 "metadata": {
  "kernelspec": {
   "display_name": "Python 2",
   "language": "python",
   "name": "python2"
  },
  "language_info": {
   "codemirror_mode": {
    "name": "ipython",
    "version": 2
   },
   "file_extension": ".py",
   "mimetype": "text/x-python",
   "name": "python",
   "nbconvert_exporter": "python",
   "pygments_lexer": "ipython2",
   "version": "2.7.12"
  }
 },
 "nbformat": 4,
 "nbformat_minor": 0
}
